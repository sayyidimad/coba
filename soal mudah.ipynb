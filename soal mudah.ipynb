{
 "cells": [
  {
   "cell_type": "markdown",
   "id": "a202bb2d",
   "metadata": {},
   "source": [
    "### 1. Buatlah sebuah program yang meminta nilai sisi sebuah bujursangkar dan menampilkan luas bujursangkar tersebut ke layar.\n",
    "Contoh Input:\n",
    "\n",
    "4\n",
    "\n",
    "Contoh Output:\n",
    "\n",
    "16"
   ]
  },
  {
   "cell_type": "code",
   "execution_count": null,
   "id": "ebef3030",
   "metadata": {},
   "outputs": [],
   "source": []
  },
  {
   "cell_type": "markdown",
   "id": "59342757",
   "metadata": {},
   "source": [
    "### 2. Buatlah sebuah program yang meminta sebuah bilangan dan menentukan apakah bilangan tersebut adalah bilangan ganjil atau genap.\n",
    "Contoh Input1:\n",
    "\n",
    "5\n",
    "\n",
    "Contoh Output1:\n",
    "\n",
    "Ganjil\n",
    "\n",
    "Contoh Input2:\n",
    "\n",
    "16\n",
    "\n",
    "Contoh Output2:\n",
    "\n",
    "Genap"
   ]
  },
  {
   "cell_type": "code",
   "execution_count": null,
   "id": "cecac2f3",
   "metadata": {},
   "outputs": [],
   "source": []
  },
  {
   "cell_type": "markdown",
   "id": "46084a39",
   "metadata": {},
   "source": [
    "### 3. Buatlah program untuk menentukan apakah tahun yang dimasukkan adalah tahun kabisat atau bukan. Tahun kabisat adalah tahun yang habis dibagi 4, tetapi tidak habis dibagi 100 kecuali kelipatan 400.\n",
    "**Contoh Input1:**\n",
    "\n",
    "1999\n",
    "\n",
    "**Contoh Output1:**\n",
    "\n",
    "Bukan kabisat\n",
    "\n",
    "**Contoh Input2:**\n",
    "\n",
    "1900\n",
    "\n",
    "**Contoh Output2:**\n",
    "\n",
    "Bukan kabisat\n",
    "\n",
    "**Contoh Input3:**\n",
    "\n",
    "1616\n",
    "\n",
    "**Contoh Output3:**\n",
    "\n",
    "Kabisat\n",
    "\n",
    "**Contoh Input4:**\n",
    "\n",
    "1600\n",
    "\n",
    "**Contoh Output4:**\n",
    "\n",
    "Kabisat"
   ]
  },
  {
   "cell_type": "markdown",
   "id": "cce8e4e2",
   "metadata": {},
   "source": [
    "### 4. Buatlah program yang meminta sebuah bilangan n, lalu menampilkan seluruh bilangan ganjil dari 1 - n.\n",
    "**Contoh Input:**\n",
    "\n",
    "12\n",
    "\n",
    "**Contoh Output:**\n",
    "\n",
    "1 3 5 7 9 11"
   ]
  },
  {
   "cell_type": "code",
   "execution_count": 3,
   "id": "e792eb91",
   "metadata": {},
   "outputs": [
    {
     "name": "stdout",
     "output_type": "stream",
     "text": [
      "1 2 3 4 5 6 7 8 9 10 11 12 "
     ]
    }
   ],
   "source": [
    "for anggota in range(0, 12+1, 4):\n",
    "    print(i, end=\" \")\n",
    "    \n",
    "range(start, stop+1, step)"
   ]
  },
  {
   "cell_type": "markdown",
   "id": "f14c5a0a",
   "metadata": {},
   "source": [
    "### 5. Buatlah program yang meminta sebuah bilangan n dan menentukan apakah bilangan tersebut adalah bilangan prima atau bukan.\n",
    "**Contoh Input1:**\n",
    "\n",
    "1\n",
    "\n",
    "**Contoh Output1:**\n",
    "\n",
    "Bukan prima\n",
    "\n",
    "**Contoh Input2:**\n",
    "\n",
    "2\n",
    "\n",
    "**Contoh Output2:**\n",
    "\n",
    "Prima\n",
    "\n",
    "**Contoh Input3:**\n",
    "\n",
    "9\n",
    "\n",
    "**Contoh Output3:**\n",
    "\n",
    "Bukan prima\n",
    "\n",
    "**Contoh Input4:**\n",
    "\n",
    "11\n",
    "\n",
    "**Contoh Output4:**\n",
    "\n",
    "Prima"
   ]
  },
  {
   "cell_type": "code",
   "execution_count": null,
   "id": "177cacf3",
   "metadata": {},
   "outputs": [],
   "source": []
  },
  {
   "cell_type": "markdown",
   "id": "24293df2",
   "metadata": {},
   "source": [
    "### 6. Buatlah program yang meminta sebuah bilangan N, lalu menampilkan N! (faktorial dari N) dengan\n",
    "N! = N * (N-1) * (N-2) * ... * 1 dan 0! = 1.\n",
    "\n",
    "**Contoh Input1:**\n",
    "\n",
    "0\n",
    "\n",
    "**Contoh Output1:**\n",
    "\n",
    "1\n",
    "\n",
    "**Contoh Input2:**\n",
    "\n",
    "1\n",
    "\n",
    "**Contoh Output2:**\n",
    "\n",
    "1\n",
    "\n",
    "**Contoh Input3:**\n",
    "\n",
    "3\n",
    "\n",
    "**Contoh Output3:**\n",
    "\n",
    "6\n",
    "\n",
    "**Contoh Input4:**\n",
    "\n",
    "5\n",
    "\n",
    "**Contoh Output4:**\n",
    "\n",
    "120"
   ]
  },
  {
   "cell_type": "code",
   "execution_count": null,
   "id": "381711d9",
   "metadata": {},
   "outputs": [],
   "source": []
  },
  {
   "cell_type": "markdown",
   "id": "65987c73",
   "metadata": {},
   "source": [
    "### 7. Terdapat 2 rumus matematika sebagai berikut:\n",
    "f(x) = 2x + 3\n",
    "g(x) = f(x) + f(x-1) + f(x-2) + f(x-3) + ... + f(0)\n",
    "\n",
    "Buatlah sebuah program yang meminta sebuah bilangan x, lalu menampilkan hasil g(x).\n",
    "\n",
    "**Contoh Input1:**\n",
    "\n",
    "0\n",
    "\n",
    "**Contoh Output1:**\n",
    "\n",
    "3\n",
    "\n",
    "**Contoh Input2:**\n",
    "\n",
    "3\n",
    "\n",
    "**Contoh Output2:**\n",
    "\n",
    "24"
   ]
  },
  {
   "cell_type": "code",
   "execution_count": null,
   "id": "3cf2c0be",
   "metadata": {},
   "outputs": [],
   "source": []
  },
  {
   "cell_type": "markdown",
   "id": "c4f0c1c2",
   "metadata": {},
   "source": [
    "### 9. Buatlah sebuah program yang mencari jumlah huruf a dalam sebuah string. Panjang string maksimal 20 karakter.\n",
    "**Contoh Input:**\n",
    "\n",
    "remoe aha aha I love you\n",
    "\n",
    "**Contoh Output:**\n",
    "\n",
    "4"
   ]
  },
  {
   "cell_type": "code",
   "execution_count": null,
   "id": "457f02f9",
   "metadata": {},
   "outputs": [],
   "source": []
  },
  {
   "cell_type": "markdown",
   "id": "bc3ebd21",
   "metadata": {},
   "source": [
    "### 10. Buatlah sebuah program yang dapat mengubah huruf depan tiap kata dalam sebuah string menjadi huruf kapital.\n",
    "**Contoh Input:**\n",
    "\n",
    "halo Apa kabar?\n",
    "\n",
    "**Contoh Output:**\n",
    "\n",
    "Halo Apa Kabar?"
   ]
  },
  {
   "cell_type": "code",
   "execution_count": null,
   "id": "83670ac7",
   "metadata": {},
   "outputs": [],
   "source": []
  },
  {
   "cell_type": "markdown",
   "id": "da72b1d6",
   "metadata": {},
   "source": [
    "### Soal Bonus, buatlah program yang dapat mengubah bilangan yang dimasukkan (0 - 9.999) lalu menampilkan bilangan tersebut dalam sebuah kalimat terbilangnya.\n",
    "**Contoh Input:**\n",
    "\n",
    "3456\n",
    "\n",
    "**Contoh Output:**\n",
    "\n",
    "tiga ribu empat ratus lima puluh enam"
   ]
  },
  {
   "cell_type": "code",
   "execution_count": null,
   "id": "2698a56a",
   "metadata": {},
   "outputs": [],
   "source": []
  }
 ],
 "metadata": {
  "kernelspec": {
   "display_name": "Python 3 (ipykernel)",
   "language": "python",
   "name": "python3"
  },
  "language_info": {
   "codemirror_mode": {
    "name": "ipython",
    "version": 3
   },
   "file_extension": ".py",
   "mimetype": "text/x-python",
   "name": "python",
   "nbconvert_exporter": "python",
   "pygments_lexer": "ipython3",
   "version": "3.9.16"
  }
 },
 "nbformat": 4,
 "nbformat_minor": 5
}

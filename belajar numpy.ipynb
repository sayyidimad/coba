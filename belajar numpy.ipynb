{
 "cells": [
  {
   "cell_type": "code",
   "execution_count": 1,
   "id": "20fb2064",
   "metadata": {},
   "outputs": [],
   "source": [
    "import numpy as np"
   ]
  },
  {
   "cell_type": "code",
   "execution_count": 2,
   "id": "b9cb1ccc",
   "metadata": {},
   "outputs": [
    {
     "data": {
      "text/plain": [
       "array([1, 2, 3])"
      ]
     },
     "execution_count": 2,
     "metadata": {},
     "output_type": "execute_result"
    }
   ],
   "source": [
    "my_list = np.array([1, 2, 3])\n",
    "my_list"
   ]
  },
  {
   "cell_type": "code",
   "execution_count": 4,
   "id": "d171933b",
   "metadata": {},
   "outputs": [
    {
     "data": {
      "text/plain": [
       "[0, 1, 2, 3, 4, 5, 6, 7, 8, 9]"
      ]
     },
     "execution_count": 4,
     "metadata": {},
     "output_type": "execute_result"
    }
   ],
   "source": [
    "list(range(0, 10))"
   ]
  },
  {
   "cell_type": "code",
   "execution_count": 5,
   "id": "5db938c6",
   "metadata": {},
   "outputs": [
    {
     "data": {
      "text/plain": [
       "array([0, 1, 2, 3, 4, 5, 6, 7, 8, 9])"
      ]
     },
     "execution_count": 5,
     "metadata": {},
     "output_type": "execute_result"
    }
   ],
   "source": [
    "np.arange(0, 10)"
   ]
  },
  {
   "cell_type": "code",
   "execution_count": 9,
   "id": "c2721117",
   "metadata": {},
   "outputs": [
    {
     "data": {
      "text/plain": [
       "array([[1., 0., 0., 0., 0., 0.],\n",
       "       [0., 1., 0., 0., 0., 0.],\n",
       "       [0., 0., 1., 0., 0., 0.],\n",
       "       [0., 0., 0., 1., 0., 0.],\n",
       "       [0., 0., 0., 0., 1., 0.],\n",
       "       [0., 0., 0., 0., 0., 1.]])"
      ]
     },
     "execution_count": 9,
     "metadata": {},
     "output_type": "execute_result"
    }
   ],
   "source": [
    "np.eye(6)"
   ]
  },
  {
   "cell_type": "code",
   "execution_count": 16,
   "id": "f287eb45",
   "metadata": {},
   "outputs": [
    {
     "data": {
      "text/plain": [
       "array([[0.97224827, 0.16795585, 0.26626148, 0.6741817 , 0.02163479],\n",
       "       [0.35296771, 0.82979314, 0.56590538, 0.5019054 , 0.51933302],\n",
       "       [0.70829252, 0.30820747, 0.66092771, 0.31487045, 0.67822397],\n",
       "       [0.80019488, 0.04240414, 0.25533523, 0.25555017, 0.78490823],\n",
       "       [0.77040762, 0.60774066, 0.04988561, 0.61488967, 0.99285319]])"
      ]
     },
     "execution_count": 16,
     "metadata": {},
     "output_type": "execute_result"
    }
   ],
   "source": [
    "np.random.rand(5, 5)"
   ]
  },
  {
   "cell_type": "code",
   "execution_count": 17,
   "id": "a81ff053",
   "metadata": {},
   "outputs": [
    {
     "data": {
      "text/plain": [
       "array([0.16407715, 0.52322931])"
      ]
     },
     "execution_count": 17,
     "metadata": {},
     "output_type": "execute_result"
    }
   ],
   "source": [
    "np.random.randn(2)"
   ]
  },
  {
   "cell_type": "code",
   "execution_count": 18,
   "id": "502d7371",
   "metadata": {},
   "outputs": [
    {
     "data": {
      "text/plain": [
       "array([[ 0.3195429 , -1.73082402,  0.57904146, -0.5461251 ,  0.57914615],\n",
       "       [-1.48798626, -1.90728605,  1.26642269,  0.59681053, -1.63189694],\n",
       "       [-0.35454937,  0.97062622, -0.1007467 , -0.14047509,  0.50724724],\n",
       "       [ 0.5336376 , -1.97607981,  0.00945463,  0.31458181,  0.06538895],\n",
       "       [-0.76720714,  0.16679381, -0.42304314,  0.19264228,  0.42221648]])"
      ]
     },
     "execution_count": 18,
     "metadata": {},
     "output_type": "execute_result"
    }
   ],
   "source": [
    "np.random.randn(5, 5)"
   ]
  },
  {
   "cell_type": "code",
   "execution_count": 40,
   "id": "95c62b4d",
   "metadata": {},
   "outputs": [
    {
     "data": {
      "text/plain": [
       "array([77, 70, 73, 68, 63, 90, 95, 77, 95, 81, 75, 81, 73, 72, 60])"
      ]
     },
     "execution_count": 40,
     "metadata": {},
     "output_type": "execute_result"
    }
   ],
   "source": [
    "arr = np.random.randint(60, 101, 15)\n",
    "arr"
   ]
  },
  {
   "cell_type": "code",
   "execution_count": 42,
   "id": "f509074c",
   "metadata": {},
   "outputs": [
    {
     "data": {
      "text/plain": [
       "array([95, 77, 95, 81, 75])"
      ]
     },
     "execution_count": 42,
     "metadata": {},
     "output_type": "execute_result"
    }
   ],
   "source": [
    "arr[6:11] # start:stop:step"
   ]
  },
  {
   "cell_type": "code",
   "execution_count": 48,
   "id": "738c3b35",
   "metadata": {},
   "outputs": [
    {
     "data": {
      "text/plain": [
       "[1, 100, 100, 100, 5]"
      ]
     },
     "execution_count": 48,
     "metadata": {},
     "output_type": "execute_result"
    }
   ],
   "source": [
    "test = [1, 2, 3, 4, 5]\n",
    "test[1:4] = 100\n",
    "test"
   ]
  },
  {
   "cell_type": "code",
   "execution_count": 46,
   "id": "a822ac02",
   "metadata": {},
   "outputs": [
    {
     "data": {
      "text/plain": [
       "array([ 77,  70,  73,  68,  63,  90, 100, 100, 100, 100, 100,  81,  73,\n",
       "        72,  60])"
      ]
     },
     "execution_count": 46,
     "metadata": {},
     "output_type": "execute_result"
    }
   ],
   "source": [
    "arr[6:11] = 100\n",
    "arr"
   ]
  },
  {
   "cell_type": "code",
   "execution_count": 49,
   "id": "72783bce",
   "metadata": {},
   "outputs": [
    {
     "data": {
      "text/plain": [
       "array([[85, 81, 88, 69],\n",
       "       [84, 74, 88, 84],\n",
       "       [67, 74, 97, 63],\n",
       "       [60, 77, 84, 89]])"
      ]
     },
     "execution_count": 49,
     "metadata": {},
     "output_type": "execute_result"
    }
   ],
   "source": [
    "arr = np.random.randint(60, 101, 16).reshape(4, 4)\n",
    "arr"
   ]
  },
  {
   "cell_type": "code",
   "execution_count": 50,
   "id": "f7245a69",
   "metadata": {},
   "outputs": [
    {
     "data": {
      "text/plain": [
       "97"
      ]
     },
     "execution_count": 50,
     "metadata": {},
     "output_type": "execute_result"
    }
   ],
   "source": [
    "arr[2][2]"
   ]
  },
  {
   "cell_type": "code",
   "execution_count": 59,
   "id": "acb1591f",
   "metadata": {},
   "outputs": [
    {
     "data": {
      "text/plain": [
       "array([[84, 74, 88, 84],\n",
       "       [67, 74, 97, 63]])"
      ]
     },
     "execution_count": 59,
     "metadata": {},
     "output_type": "execute_result"
    }
   ],
   "source": [
    "arr[:3][1:3]"
   ]
  },
  {
   "cell_type": "code",
   "execution_count": 61,
   "id": "1a16ff59",
   "metadata": {},
   "outputs": [
    {
     "data": {
      "text/plain": [
       "array([[84, 74, 88, 84],\n",
       "       [60, 77, 84, 89]])"
      ]
     },
     "execution_count": 61,
     "metadata": {},
     "output_type": "execute_result"
    }
   ],
   "source": [
    "arr[[1,3]]"
   ]
  },
  {
   "cell_type": "code",
   "execution_count": 63,
   "id": "951d6c61",
   "metadata": {},
   "outputs": [
    {
     "data": {
      "text/plain": [
       "array([85, 81, 88, 84, 88, 84, 97, 84, 89])"
      ]
     },
     "execution_count": 63,
     "metadata": {},
     "output_type": "execute_result"
    }
   ],
   "source": [
    "arr[arr>80]"
   ]
  },
  {
   "cell_type": "code",
   "execution_count": 64,
   "id": "812de957",
   "metadata": {},
   "outputs": [
    {
     "data": {
      "text/plain": [
       "array([[ 88,  84,  91,  72],\n",
       "       [ 87,  77,  91,  87],\n",
       "       [ 70,  77, 100,  66],\n",
       "       [ 63,  80,  87,  92]])"
      ]
     },
     "execution_count": 64,
     "metadata": {},
     "output_type": "execute_result"
    }
   ],
   "source": [
    "arr + 3"
   ]
  },
  {
   "cell_type": "code",
   "execution_count": 65,
   "id": "ea8aeeec",
   "metadata": {},
   "outputs": [
    {
     "data": {
      "text/plain": [
       "array([[10.625, 10.125, 11.   ,  8.625],\n",
       "       [10.5  ,  9.25 , 11.   , 10.5  ],\n",
       "       [ 8.375,  9.25 , 12.125,  7.875],\n",
       "       [ 7.5  ,  9.625, 10.5  , 11.125]])"
      ]
     },
     "execution_count": 65,
     "metadata": {},
     "output_type": "execute_result"
    }
   ],
   "source": [
    "arr / 8"
   ]
  },
  {
   "cell_type": "code",
   "execution_count": 67,
   "id": "ecdab5ef",
   "metadata": {},
   "outputs": [
    {
     "data": {
      "text/plain": [
       "array([[9.21954446, 9.        , 9.38083152, 8.30662386],\n",
       "       [9.16515139, 8.60232527, 9.38083152, 9.16515139],\n",
       "       [8.18535277, 8.60232527, 9.8488578 , 7.93725393],\n",
       "       [7.74596669, 8.77496439, 9.16515139, 9.43398113]])"
      ]
     },
     "execution_count": 67,
     "metadata": {},
     "output_type": "execute_result"
    }
   ],
   "source": [
    "np.sqrt(arr)"
   ]
  },
  {
   "cell_type": "code",
   "execution_count": 68,
   "id": "d0126ac6",
   "metadata": {},
   "outputs": [
    {
     "data": {
      "text/plain": [
       "array([9.16515139])"
      ]
     },
     "execution_count": 68,
     "metadata": {},
     "output_type": "execute_result"
    }
   ],
   "source": [
    "np.sqrt([84])"
   ]
  },
  {
   "cell_type": "code",
   "execution_count": null,
   "id": "a0b4e534",
   "metadata": {},
   "outputs": [],
   "source": []
  }
 ],
 "metadata": {
  "kernelspec": {
   "display_name": "Python 3 (ipykernel)",
   "language": "python",
   "name": "python3"
  },
  "language_info": {
   "codemirror_mode": {
    "name": "ipython",
    "version": 3
   },
   "file_extension": ".py",
   "mimetype": "text/x-python",
   "name": "python",
   "nbconvert_exporter": "python",
   "pygments_lexer": "ipython3",
   "version": "3.9.16"
  }
 },
 "nbformat": 4,
 "nbformat_minor": 5
}

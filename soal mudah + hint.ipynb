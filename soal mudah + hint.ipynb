{
 "cells": [
  {
   "cell_type": "markdown",
   "id": "a202bb2d",
   "metadata": {},
   "source": [
    "### 1. Buatlah sebuah program yang meminta nilai sisi sebuah bujursangkar dan menampilkan luas bujursangkar tersebut ke layar.\n",
    "Contoh Input:\n",
    "\n",
    "4\n",
    "\n",
    "Contoh Output:\n",
    "\n",
    "16"
   ]
  },
  {
   "cell_type": "code",
   "execution_count": null,
   "id": "ebef3030",
   "metadata": {},
   "outputs": [],
   "source": [
    "# deklarasi\n",
    "sisi = int(input())\n",
    "\n",
    "# proses\n",
    "luas = # rumus luas bujursangkar\n",
    "\n",
    "#  output\n",
    "print(luas)"
   ]
  },
  {
   "cell_type": "markdown",
   "id": "59342757",
   "metadata": {},
   "source": [
    "### 2. Buatlah sebuah program yang meminta sebuah bilangan dan menentukan apakah bilangan tersebut adalah bilangan ganjil atau genap.\n",
    "Contoh Input1:\n",
    "\n",
    "5\n",
    "\n",
    "Contoh Output1:\n",
    "\n",
    "Ganjil\n",
    "\n",
    "Contoh Input2:\n",
    "\n",
    "16\n",
    "\n",
    "Contoh Output2:\n",
    "\n",
    "Genap"
   ]
  },
  {
   "cell_type": "code",
   "execution_count": null,
   "id": "eae28d69",
   "metadata": {},
   "outputs": [],
   "source": [
    "print(11 % 2, 12 % 2)"
   ]
  },
  {
   "cell_type": "code",
   "execution_count": null,
   "id": "cecac2f3",
   "metadata": {},
   "outputs": [],
   "source": [
    "# deklarasi\n",
    "bil = int(input())\n",
    "\n",
    "# proses\n",
    "# bentuk dasar if adalah if True:\n",
    "# maka dari itu gunakan operator comparison (perbandingan), https://www.w3schools.com/python/python_operators.asp\n",
    "if kondisi: # berikan kondisi ganjil / genap nya pakai hint di atas\n",
    "    print() # tampilkan ganjil / genap, sesuai kondisi\n",
    "else:\n",
    "    print() # tampilkan kebalikannya"
   ]
  },
  {
   "cell_type": "markdown",
   "id": "46084a39",
   "metadata": {},
   "source": [
    "### 3. Buatlah program untuk menentukan apakah tahun yang dimasukkan adalah tahun kabisat atau bukan. Tahun kabisat adalah tahun yang habis dibagi 4, tetapi tidak habis dibagi 100 kecuali kelipatan 400.\n",
    "**Contoh Input1:**\n",
    "\n",
    "1999\n",
    "\n",
    "**Contoh Output1:**\n",
    "\n",
    "Bukan kabisat\n",
    "\n",
    "**Contoh Input2:**\n",
    "\n",
    "1900\n",
    "\n",
    "**Contoh Output2:**\n",
    "\n",
    "Bukan kabisat\n",
    "\n",
    "**Contoh Input3:**\n",
    "\n",
    "1616\n",
    "\n",
    "**Contoh Output3:**\n",
    "\n",
    "Kabisat\n",
    "\n",
    "**Contoh Input4:**\n",
    "\n",
    "1600\n",
    "\n",
    "**Contoh Output4:**\n",
    "\n",
    "Kabisat"
   ]
  },
  {
   "cell_type": "code",
   "execution_count": null,
   "id": "54ea529f",
   "metadata": {},
   "outputs": [],
   "source": [
    "# deklarasi\n",
    "tahun = int(input())\n",
    "\n",
    "# cara 1\n",
    "if kondisi: # berikan kondisi apakah tahun habis dibagi 4\n",
    "    if kondisi: # berikan kondisi apakah tahun habis dibagi 400\n",
    "        print() # tahun kabisat\n",
    "    elif kondisi: # berikan kondisi apakah tahun habis dibagi 100\n",
    "        print() # bukan tahun kabisat, karena meski habis dibagi 4 tetapi habis dibagi 100 (juga bukan kelipatan 400)\n",
    "    else:\n",
    "        print() # tahun kabisat, habis dibagi 4 yang bukan kelipatan 100\n",
    "        \n",
    "else:\n",
    "    print() # bukan tahun kabisat, karena jelas tidak habis dibagi 4\n",
    "    \n",
    "# cara 2\n",
    "if kondisi: # berikan kondisi apakah tahun habis dibagi 4\n",
    "    if kondisi or kondisi: # berikan kondisi apakah tahun habis dibagi 400 or(atau) tahun tidak habis dibagi 100\n",
    "        print() # tahun kabisat\n",
    "    else:\n",
    "        print() # bukan tahun kabisat, karena tahun yang masuk else adalah tahun yang habis dibagi 100 (juga bukan kelipatan 400)\n",
    "else:\n",
    "    print() # bukan tahun kabisat\n",
    "    \n",
    "# cara 3\n",
    "if kondisi and (kondisi or kondisi): # berikan kondisi apakah tahun habis dibagi 4 and(dan) salah satu kondisi benar, \n",
    "                                    # tahun habis dibagi 400 atau tahun tidak habis dibagi 100\n",
    "    print() # tahun kabisat\n",
    "else:\n",
    "    print() # bukan tahun kabisat"
   ]
  },
  {
   "cell_type": "code",
   "execution_count": 7,
   "id": "a22f17ba",
   "metadata": {},
   "outputs": [
    {
     "name": "stdout",
     "output_type": "stream",
     "text": [
      "2304\n",
      "tahun kabisat\n"
     ]
    }
   ],
   "source": [
    "tahun = int(input())\n",
    "\n",
    "if tahun % 4 == 0 or tahun % 100 != 0: # berikan kondisi apakah tahun habis dibagi 4 and(dan) salah satu kondisi benar, \n",
    "                                    # tahun habis dibagi 400 atau tahun tidak habis dibagi 100\n",
    "    print(\"tahun kabisat\") # tahun kabisat\n",
    "else:\n",
    "    print(\"bukan tahun kabisat\") # bukan tahun kabisat"
   ]
  },
  {
   "cell_type": "markdown",
   "id": "cce8e4e2",
   "metadata": {},
   "source": [
    "### 4. Buatlah program yang meminta sebuah bilangan n, lalu menampilkan seluruh bilangan ganjil dari 1 - n.\n",
    "**Contoh Input:**\n",
    "\n",
    "12\n",
    "\n",
    "**Contoh Output:**\n",
    "\n",
    "1 3 5 7 9 11"
   ]
  },
  {
   "cell_type": "code",
   "execution_count": null,
   "id": "e792eb91",
   "metadata": {},
   "outputs": [],
   "source": [
    "# deklarasi\n",
    "n = int(input())\n",
    "\n",
    "# proses\n",
    "for i in range():\n",
    "    if kondisi: # apakah i adalah ganjil\n",
    "        print()"
   ]
  },
  {
   "cell_type": "markdown",
   "id": "f14c5a0a",
   "metadata": {},
   "source": [
    "### 5. Buatlah program yang meminta sebuah bilangan n dan menentukan apakah bilangan tersebut adalah bilangan prima atau bukan.\n",
    "**Contoh Input1:**\n",
    "\n",
    "1\n",
    "\n",
    "**Contoh Output1:**\n",
    "\n",
    "Bukan prima\n",
    "\n",
    "**Contoh Input2:**\n",
    "\n",
    "2\n",
    "\n",
    "**Contoh Output2:**\n",
    "\n",
    "Prima\n",
    "\n",
    "**Contoh Input3:**\n",
    "\n",
    "9\n",
    "\n",
    "**Contoh Output3:**\n",
    "\n",
    "Bukan prima\n",
    "\n",
    "**Contoh Input4:**\n",
    "\n",
    "11\n",
    "\n",
    "**Contoh Output4:**\n",
    "\n",
    "Prima"
   ]
  },
  {
   "cell_type": "code",
   "execution_count": null,
   "id": "177cacf3",
   "metadata": {},
   "outputs": [],
   "source": [
    "# sesuaikan ke dalam kondisi no 4\n",
    "\n",
    "prima = True\n",
    "# bilangan prima adalah bilangan yang habis dibagi 1 dan bilangan itu sendiri, maka...\n",
    "for j in range(): # lakukan dalam range 2 sampai satu angka sebelum i\n",
    "    if kondisi: # jika ada angka yang dapat membagi i, maka i bukanlah bilangan prima\n",
    "        # ubah variabel prima menjadi false dan hentikan perulangan\n",
    "        # break\n",
    "        \n",
    "# print sesuai true / false variabel prima"
   ]
  },
  {
   "cell_type": "markdown",
   "id": "24293df2",
   "metadata": {},
   "source": [
    "### 6. Buatlah program yang meminta sebuah bilangan N, lalu menampilkan N! (faktorial dari N) dengan\n",
    "N! = N * (N-1) * (N-2) * ... * 1 dan 0! = 1.\n",
    "\n",
    "**Contoh Input1:**\n",
    "\n",
    "0\n",
    "\n",
    "**Contoh Output1:**\n",
    "\n",
    "1\n",
    "\n",
    "**Contoh Input2:**\n",
    "\n",
    "1\n",
    "\n",
    "**Contoh Output2:**\n",
    "\n",
    "1\n",
    "\n",
    "**Contoh Input3:**\n",
    "\n",
    "3\n",
    "\n",
    "**Contoh Output3:**\n",
    "\n",
    "6\n",
    "\n",
    "**Contoh Input4:**\n",
    "\n",
    "5\n",
    "\n",
    "**Contoh Output4:**\n",
    "\n",
    "120"
   ]
  },
  {
   "cell_type": "code",
   "execution_count": null,
   "id": "381711d9",
   "metadata": {},
   "outputs": [],
   "source": [
    "# gampang njirr"
   ]
  },
  {
   "cell_type": "markdown",
   "id": "65987c73",
   "metadata": {},
   "source": [
    "### 7. Terdapat 2 rumus matematika sebagai berikut:\n",
    "f(x) = 2x + 3\n",
    "\n",
    "g(x) = f(x) + f(x-1) + f(x-2) + f(x-3) + ... + f(0)\n",
    "\n",
    "Buatlah sebuah program yang meminta sebuah bilangan x, lalu menampilkan hasil g(x).\n",
    "\n",
    "**Contoh Input1:**\n",
    "\n",
    "0\n",
    "\n",
    "**Contoh Output1:**\n",
    "\n",
    "3\n",
    "\n",
    "**Contoh Input2:**\n",
    "\n",
    "3\n",
    "\n",
    "**Contoh Output2:**\n",
    "\n",
    "24"
   ]
  },
  {
   "cell_type": "code",
   "execution_count": null,
   "id": "3cf2c0be",
   "metadata": {},
   "outputs": [],
   "source": [
    "# deklarasi\n",
    "x = int(input())\n",
    "tampung = 0\n",
    "\n",
    "def f(x):\n",
    "    return persamaan fx\n",
    "\n",
    "# proses\n",
    "while kondisi: # berikan kondisi, dimana/kapan g(x) berhenti\n",
    "    tampung = # tambah tampung dengan f(x), x saat ini\n",
    "    x = # naik / turun kan 1 angka\n",
    "\n",
    "print(tampung)"
   ]
  },
  {
   "cell_type": "markdown",
   "id": "c4f0c1c2",
   "metadata": {},
   "source": [
    "### 9. Buatlah sebuah program yang mencari jumlah huruf a dalam sebuah string. Panjang string maksimal 20 karakter.\n",
    "**Contoh Input:**\n",
    "\n",
    "remoe aha aha I love you\n",
    "\n",
    "**Contoh Output:**\n",
    "\n",
    "4"
   ]
  },
  {
   "cell_type": "code",
   "execution_count": null,
   "id": "457f02f9",
   "metadata": {},
   "outputs": [],
   "source": [
    "# deklarasi\n",
    "string = input()\n",
    "jumlah = 0\n",
    "\n",
    "# proses\n",
    "for ...: # lakukan perulangan untuk setiap huruf dalam string\n",
    "    if kondisi: # berikan kondisi jika huruf adalah huruf a, maka...\n",
    "        jumlah = # tambah jumlah dengan 1\n",
    "\n",
    "# output\n",
    "print(jumlah)"
   ]
  },
  {
   "cell_type": "markdown",
   "id": "bc3ebd21",
   "metadata": {},
   "source": [
    "### 10. Buatlah sebuah program yang dapat mengubah huruf depan tiap kata dalam sebuah string menjadi huruf kapital.\n",
    "**Contoh Input:**\n",
    "\n",
    "halo Apa kabar?\n",
    "\n",
    "**Contoh Output:**\n",
    "\n",
    "Halo Apa Kabar?"
   ]
  },
  {
   "cell_type": "code",
   "execution_count": null,
   "id": "13ec238f",
   "metadata": {},
   "outputs": [],
   "source": [
    "# deklarasi\n",
    "string = input()\n",
    "first = True\n",
    "hasil = \"\"\n",
    "\n",
    "# cara 1\n",
    "for : # lakukan perulangan untuk setiap huruf dalam string\n",
    "    if kondisi: # berikan kondisi jika huruf adalah spasi, maka...\n",
    "        first = # set nilai first menjadi true (karena awal kata selalu didahului spasi)\n",
    "    else:\n",
    "        # bila huruf bukan spasi\n",
    "        if kondisi: # cek apakah variabel first bernilai true, bisa digunakan langsung\n",
    "            hasil = hasil + \" \" +  # tambahkan hasil dengan spasi dan huruf yang dibuat kapital\n",
    "            first = # set nilai first menjadi false (karena awal kata telah dilewati)\n",
    "        else:\n",
    "            # bila huruf bukan awal kata\n",
    "            hasil = # tambahkan hasil dengan huruf\n",
    "\n",
    "# cara 2\n",
    "string = # gunakan fungsi split untuk memisahkan string menggunakan spasi\n",
    "for ...: # lakukan perulangan untuk setiap kata dalam string\n",
    "    hasil = hasil + \" \" + kata[0] + kata[1:] # tambahkan hasil dengan spasi, awal kata yang telah dikapital, dan huruf sisanya\n",
    "\n",
    "# Output\n",
    "hasil[1:]"
   ]
  },
  {
   "cell_type": "markdown",
   "id": "da72b1d6",
   "metadata": {},
   "source": [
    "### Soal Bonus, buatlah program yang dapat mengubah bilangan yang dimasukkan (0 - 9.999) lalu menampilkan bilangan tersebut dalam sebuah kalimat terbilangnya.\n",
    "**Contoh Input:**\n",
    "\n",
    "3456\n",
    "\n",
    "**Contoh Output:**\n",
    "\n",
    "tiga ribu empat ratus lima puluh enam"
   ]
  },
  {
   "cell_type": "code",
   "execution_count": null,
   "id": "2698a56a",
   "metadata": {},
   "outputs": [],
   "source": []
  }
 ],
 "metadata": {
  "kernelspec": {
   "display_name": "Python 3 (ipykernel)",
   "language": "python",
   "name": "python3"
  },
  "language_info": {
   "codemirror_mode": {
    "name": "ipython",
    "version": 3
   },
   "file_extension": ".py",
   "mimetype": "text/x-python",
   "name": "python",
   "nbconvert_exporter": "python",
   "pygments_lexer": "ipython3",
   "version": "3.9.16"
  }
 },
 "nbformat": 4,
 "nbformat_minor": 5
}
